{
  "nbformat": 4,
  "nbformat_minor": 0,
  "metadata": {
    "colab": {
      "provenance": [],
      "authorship_tag": "ABX9TyOnyLe31nuod8mq8imw7tUQ",
      "include_colab_link": true
    },
    "kernelspec": {
      "name": "python3",
      "display_name": "Python 3"
    },
    "language_info": {
      "name": "python"
    }
  },
  "cells": [
    {
      "cell_type": "markdown",
      "metadata": {
        "id": "view-in-github",
        "colab_type": "text"
      },
      "source": [
        "<a href=\"https://colab.research.google.com/github/mostafamotlk/stock-dashboard-assignment/blob/main/Untitled0.ipynb\" target=\"_parent\"><img src=\"https://colab.research.google.com/assets/colab-badge.svg\" alt=\"Open In Colab\"/></a>"
      ]
    },
    {
      "cell_type": "code",
      "execution_count": 1,
      "metadata": {
        "colab": {
          "base_uri": "https://localhost:8080/"
        },
        "id": "3sFTKCkp2ZNg",
        "outputId": "d80ae705-f69f-400c-f855-7dc756dd2d4c",
        "collapsed": true
      },
      "outputs": [
        {
          "output_type": "stream",
          "name": "stdout",
          "text": [
            "Requirement already satisfied: ipython-sql in /usr/local/lib/python3.12/dist-packages (0.5.0)\n",
            "Requirement already satisfied: prettytable in /usr/local/lib/python3.12/dist-packages (from ipython-sql) (3.16.0)\n",
            "Requirement already satisfied: ipython in /usr/local/lib/python3.12/dist-packages (from ipython-sql) (7.34.0)\n",
            "Requirement already satisfied: sqlalchemy>=2.0 in /usr/local/lib/python3.12/dist-packages (from ipython-sql) (2.0.44)\n",
            "Requirement already satisfied: sqlparse in /usr/local/lib/python3.12/dist-packages (from ipython-sql) (0.5.3)\n",
            "Requirement already satisfied: six in /usr/local/lib/python3.12/dist-packages (from ipython-sql) (1.17.0)\n",
            "Requirement already satisfied: ipython-genutils in /usr/local/lib/python3.12/dist-packages (from ipython-sql) (0.2.0)\n",
            "Requirement already satisfied: greenlet>=1 in /usr/local/lib/python3.12/dist-packages (from sqlalchemy>=2.0->ipython-sql) (3.2.4)\n",
            "Requirement already satisfied: typing-extensions>=4.6.0 in /usr/local/lib/python3.12/dist-packages (from sqlalchemy>=2.0->ipython-sql) (4.15.0)\n",
            "Requirement already satisfied: setuptools>=18.5 in /usr/local/lib/python3.12/dist-packages (from ipython->ipython-sql) (75.2.0)\n",
            "Collecting jedi>=0.16 (from ipython->ipython-sql)\n",
            "  Downloading jedi-0.19.2-py2.py3-none-any.whl.metadata (22 kB)\n",
            "Requirement already satisfied: decorator in /usr/local/lib/python3.12/dist-packages (from ipython->ipython-sql) (4.4.2)\n",
            "Requirement already satisfied: pickleshare in /usr/local/lib/python3.12/dist-packages (from ipython->ipython-sql) (0.7.5)\n",
            "Requirement already satisfied: traitlets>=4.2 in /usr/local/lib/python3.12/dist-packages (from ipython->ipython-sql) (5.7.1)\n",
            "Requirement already satisfied: prompt-toolkit!=3.0.0,!=3.0.1,<3.1.0,>=2.0.0 in /usr/local/lib/python3.12/dist-packages (from ipython->ipython-sql) (3.0.52)\n",
            "Requirement already satisfied: pygments in /usr/local/lib/python3.12/dist-packages (from ipython->ipython-sql) (2.19.2)\n",
            "Requirement already satisfied: backcall in /usr/local/lib/python3.12/dist-packages (from ipython->ipython-sql) (0.2.0)\n",
            "Requirement already satisfied: matplotlib-inline in /usr/local/lib/python3.12/dist-packages (from ipython->ipython-sql) (0.2.1)\n",
            "Requirement already satisfied: pexpect>4.3 in /usr/local/lib/python3.12/dist-packages (from ipython->ipython-sql) (4.9.0)\n",
            "Requirement already satisfied: wcwidth in /usr/local/lib/python3.12/dist-packages (from prettytable->ipython-sql) (0.2.14)\n",
            "Requirement already satisfied: parso<0.9.0,>=0.8.4 in /usr/local/lib/python3.12/dist-packages (from jedi>=0.16->ipython->ipython-sql) (0.8.5)\n",
            "Requirement already satisfied: ptyprocess>=0.5 in /usr/local/lib/python3.12/dist-packages (from pexpect>4.3->ipython->ipython-sql) (0.7.0)\n",
            "Downloading jedi-0.19.2-py2.py3-none-any.whl (1.6 MB)\n",
            "\u001b[2K   \u001b[90m━━━━━━━━━━━━━━━━━━━━━━━━━━━━━━━━━━━━━━━━\u001b[0m \u001b[32m1.6/1.6 MB\u001b[0m \u001b[31m18.3 MB/s\u001b[0m eta \u001b[36m0:00:00\u001b[0m\n",
            "\u001b[?25hInstalling collected packages: jedi\n",
            "Successfully installed jedi-0.19.2\n"
          ]
        }
      ],
      "source": [
        "!pip install ipython-sql\n"
      ]
    },
    {
      "cell_type": "code",
      "source": [
        "%load_ext sql\n"
      ],
      "metadata": {
        "id": "26_pfwY92lCB"
      },
      "execution_count": 2,
      "outputs": []
    },
    {
      "cell_type": "code",
      "source": [
        "%sql sqlite:///FinalDB.db\n"
      ],
      "metadata": {
        "id": "pYfGlYvc2tXo"
      },
      "execution_count": 3,
      "outputs": []
    },
    {
      "cell_type": "code",
      "source": [
        "import pandas as pd\n",
        "import sqlite3\n"
      ],
      "metadata": {
        "id": "scr08eYL2wbo"
      },
      "execution_count": 4,
      "outputs": []
    },
    {
      "cell_type": "code",
      "source": [
        "from google.colab import files\n",
        "uploaded = files.upload()\n"
      ],
      "metadata": {
        "colab": {
          "base_uri": "https://localhost:8080/",
          "height": 39
        },
        "id": "vnxVE2YT20LY",
        "outputId": "b24f8ec8-dc0a-44c3-c2b6-fbf172fc4716"
      },
      "execution_count": null,
      "outputs": [
        {
          "output_type": "display_data",
          "data": {
            "text/plain": [
              "<IPython.core.display.HTML object>"
            ],
            "text/html": [
              "\n",
              "     <input type=\"file\" id=\"files-e970dbf3-c0f4-4ee5-bf91-d63fa7015fb7\" name=\"files[]\" multiple disabled\n",
              "        style=\"border:none\" />\n",
              "     <output id=\"result-e970dbf3-c0f4-4ee5-bf91-d63fa7015fb7\">\n",
              "      Upload widget is only available when the cell has been executed in the\n",
              "      current browser session. Please rerun this cell to enable.\n",
              "      </output>\n",
              "      <script>// Copyright 2017 Google LLC\n",
              "//\n",
              "// Licensed under the Apache License, Version 2.0 (the \"License\");\n",
              "// you may not use this file except in compliance with the License.\n",
              "// You may obtain a copy of the License at\n",
              "//\n",
              "//      http://www.apache.org/licenses/LICENSE-2.0\n",
              "//\n",
              "// Unless required by applicable law or agreed to in writing, software\n",
              "// distributed under the License is distributed on an \"AS IS\" BASIS,\n",
              "// WITHOUT WARRANTIES OR CONDITIONS OF ANY KIND, either express or implied.\n",
              "// See the License for the specific language governing permissions and\n",
              "// limitations under the License.\n",
              "\n",
              "/**\n",
              " * @fileoverview Helpers for google.colab Python module.\n",
              " */\n",
              "(function(scope) {\n",
              "function span(text, styleAttributes = {}) {\n",
              "  const element = document.createElement('span');\n",
              "  element.textContent = text;\n",
              "  for (const key of Object.keys(styleAttributes)) {\n",
              "    element.style[key] = styleAttributes[key];\n",
              "  }\n",
              "  return element;\n",
              "}\n",
              "\n",
              "// Max number of bytes which will be uploaded at a time.\n",
              "const MAX_PAYLOAD_SIZE = 100 * 1024;\n",
              "\n",
              "function _uploadFiles(inputId, outputId) {\n",
              "  const steps = uploadFilesStep(inputId, outputId);\n",
              "  const outputElement = document.getElementById(outputId);\n",
              "  // Cache steps on the outputElement to make it available for the next call\n",
              "  // to uploadFilesContinue from Python.\n",
              "  outputElement.steps = steps;\n",
              "\n",
              "  return _uploadFilesContinue(outputId);\n",
              "}\n",
              "\n",
              "// This is roughly an async generator (not supported in the browser yet),\n",
              "// where there are multiple asynchronous steps and the Python side is going\n",
              "// to poll for completion of each step.\n",
              "// This uses a Promise to block the python side on completion of each step,\n",
              "// then passes the result of the previous step as the input to the next step.\n",
              "function _uploadFilesContinue(outputId) {\n",
              "  const outputElement = document.getElementById(outputId);\n",
              "  const steps = outputElement.steps;\n",
              "\n",
              "  const next = steps.next(outputElement.lastPromiseValue);\n",
              "  return Promise.resolve(next.value.promise).then((value) => {\n",
              "    // Cache the last promise value to make it available to the next\n",
              "    // step of the generator.\n",
              "    outputElement.lastPromiseValue = value;\n",
              "    return next.value.response;\n",
              "  });\n",
              "}\n",
              "\n",
              "/**\n",
              " * Generator function which is called between each async step of the upload\n",
              " * process.\n",
              " * @param {string} inputId Element ID of the input file picker element.\n",
              " * @param {string} outputId Element ID of the output display.\n",
              " * @return {!Iterable<!Object>} Iterable of next steps.\n",
              " */\n",
              "function* uploadFilesStep(inputId, outputId) {\n",
              "  const inputElement = document.getElementById(inputId);\n",
              "  inputElement.disabled = false;\n",
              "\n",
              "  const outputElement = document.getElementById(outputId);\n",
              "  outputElement.innerHTML = '';\n",
              "\n",
              "  const pickedPromise = new Promise((resolve) => {\n",
              "    inputElement.addEventListener('change', (e) => {\n",
              "      resolve(e.target.files);\n",
              "    });\n",
              "  });\n",
              "\n",
              "  const cancel = document.createElement('button');\n",
              "  inputElement.parentElement.appendChild(cancel);\n",
              "  cancel.textContent = 'Cancel upload';\n",
              "  const cancelPromise = new Promise((resolve) => {\n",
              "    cancel.onclick = () => {\n",
              "      resolve(null);\n",
              "    };\n",
              "  });\n",
              "\n",
              "  // Wait for the user to pick the files.\n",
              "  const files = yield {\n",
              "    promise: Promise.race([pickedPromise, cancelPromise]),\n",
              "    response: {\n",
              "      action: 'starting',\n",
              "    }\n",
              "  };\n",
              "\n",
              "  cancel.remove();\n",
              "\n",
              "  // Disable the input element since further picks are not allowed.\n",
              "  inputElement.disabled = true;\n",
              "\n",
              "  if (!files) {\n",
              "    return {\n",
              "      response: {\n",
              "        action: 'complete',\n",
              "      }\n",
              "    };\n",
              "  }\n",
              "\n",
              "  for (const file of files) {\n",
              "    const li = document.createElement('li');\n",
              "    li.append(span(file.name, {fontWeight: 'bold'}));\n",
              "    li.append(span(\n",
              "        `(${file.type || 'n/a'}) - ${file.size} bytes, ` +\n",
              "        `last modified: ${\n",
              "            file.lastModifiedDate ? file.lastModifiedDate.toLocaleDateString() :\n",
              "                                    'n/a'} - `));\n",
              "    const percent = span('0% done');\n",
              "    li.appendChild(percent);\n",
              "\n",
              "    outputElement.appendChild(li);\n",
              "\n",
              "    const fileDataPromise = new Promise((resolve) => {\n",
              "      const reader = new FileReader();\n",
              "      reader.onload = (e) => {\n",
              "        resolve(e.target.result);\n",
              "      };\n",
              "      reader.readAsArrayBuffer(file);\n",
              "    });\n",
              "    // Wait for the data to be ready.\n",
              "    let fileData = yield {\n",
              "      promise: fileDataPromise,\n",
              "      response: {\n",
              "        action: 'continue',\n",
              "      }\n",
              "    };\n",
              "\n",
              "    // Use a chunked sending to avoid message size limits. See b/62115660.\n",
              "    let position = 0;\n",
              "    do {\n",
              "      const length = Math.min(fileData.byteLength - position, MAX_PAYLOAD_SIZE);\n",
              "      const chunk = new Uint8Array(fileData, position, length);\n",
              "      position += length;\n",
              "\n",
              "      const base64 = btoa(String.fromCharCode.apply(null, chunk));\n",
              "      yield {\n",
              "        response: {\n",
              "          action: 'append',\n",
              "          file: file.name,\n",
              "          data: base64,\n",
              "        },\n",
              "      };\n",
              "\n",
              "      let percentDone = fileData.byteLength === 0 ?\n",
              "          100 :\n",
              "          Math.round((position / fileData.byteLength) * 100);\n",
              "      percent.textContent = `${percentDone}% done`;\n",
              "\n",
              "    } while (position < fileData.byteLength);\n",
              "  }\n",
              "\n",
              "  // All done.\n",
              "  yield {\n",
              "    response: {\n",
              "      action: 'complete',\n",
              "    }\n",
              "  };\n",
              "}\n",
              "\n",
              "scope.google = scope.google || {};\n",
              "scope.google.colab = scope.google.colab || {};\n",
              "scope.google.colab._files = {\n",
              "  _uploadFiles,\n",
              "  _uploadFilesContinue,\n",
              "};\n",
              "})(self);\n",
              "</script> "
            ]
          },
          "metadata": {}
        }
      ]
    },
    {
      "cell_type": "code",
      "source": [
        "df = pd.read_csv('ChicagoPublicSchools.csv')\n"
      ],
      "metadata": {
        "id": "76H4p7Fd3eci"
      },
      "execution_count": null,
      "outputs": []
    },
    {
      "cell_type": "code",
      "source": [
        "df"
      ],
      "metadata": {
        "id": "b1wIEaKP4KmD"
      },
      "execution_count": null,
      "outputs": []
    },
    {
      "cell_type": "code",
      "source": [
        "conn = sqlite3.connect('FinalDB.db')\n",
        "df.to_sql('CHICAGO_PUBLIC_SCHOOLS', conn, if_exists='replace', index=False)\n",
        "print(\"Table CHICAGO_PUBLIC_SCHOOLS created successfully!\")"
      ],
      "metadata": {
        "id": "FO4emWM-4Mkr"
      },
      "execution_count": null,
      "outputs": []
    },
    {
      "cell_type": "code",
      "source": [
        "%config SqlMagic.style = 'ChicagoPublicSchools'\n"
      ],
      "metadata": {
        "id": "UO42Cg0_4eg8"
      },
      "execution_count": null,
      "outputs": []
    },
    {
      "cell_type": "code",
      "source": [
        "%load_ext sql\n",
        "%sql sqlite:///FinalDB.db"
      ],
      "metadata": {
        "id": "8BMqEiPo6OrX"
      },
      "execution_count": null,
      "outputs": []
    },
    {
      "cell_type": "code",
      "source": [
        "%config SqlMagic.style = 'PLAIN_COLUMNS'\n"
      ],
      "metadata": {
        "id": "piL5iauJ7J94"
      },
      "execution_count": null,
      "outputs": []
    },
    {
      "cell_type": "code",
      "source": [
        "# معلومات عن الأعمدة والأنواع\n",
        "df.info()\n",
        "\n",
        "# إحصائيات سريعة\n",
        "df.describe()\n",
        "\n",
        "# عدد الصفوف والأعمدة\n",
        "df.shape\n"
      ],
      "metadata": {
        "id": "Nedknuq68Fka"
      },
      "execution_count": null,
      "outputs": []
    },
    {
      "cell_type": "code",
      "source": [
        "df['SAFETY_SCORE'].isnull().sum()\n"
      ],
      "metadata": {
        "id": "h3lBLuIz3kxe"
      },
      "execution_count": null,
      "outputs": []
    },
    {
      "cell_type": "code",
      "source": [
        "mean_value = df['SAFETY_SCORE'].mean()\n",
        "df['SAFETY_SCORE'].fillna(mean_value, inplace=True)\n"
      ],
      "metadata": {
        "id": "geMnxIRo5XvO"
      },
      "execution_count": null,
      "outputs": []
    },
    {
      "cell_type": "code",
      "source": [
        "df['SAFETY_SCORE'].isnull().sum()\n"
      ],
      "metadata": {
        "id": "lBm1nWE_5jYW"
      },
      "execution_count": null,
      "outputs": []
    },
    {
      "cell_type": "code",
      "source": [
        "null_columns = df.columns[df.isnull().any()]\n",
        "null_columns\n"
      ],
      "metadata": {
        "id": "GoRadRVy5pTG"
      },
      "execution_count": null,
      "outputs": []
    },
    {
      "cell_type": "code",
      "source": [
        "df[df.columns[df.isnull().any()]].isnull().sum()\n"
      ],
      "metadata": {
        "id": "2Toy_Xo958Re"
      },
      "execution_count": null,
      "outputs": []
    },
    {
      "cell_type": "code",
      "source": [
        "import pandas as pd\n",
        "import matplotlib.pyplot as plt"
      ],
      "metadata": {
        "id": "FX96J43q5_S2"
      },
      "execution_count": null,
      "outputs": []
    },
    {
      "cell_type": "code",
      "source": [
        "missing_values = df.isnull().sum()\n",
        "missing_values = missing_values[missing_values > 0]\n",
        "plt.figure(figsize=(10, 6))\n",
        "missing_values.plot(kind='bar')\n",
        "plt.title('Missing Values by Column', fontsize=16)\n",
        "plt.xlabel('Columns', fontsize=12)\n",
        "plt.ylabel('Number of Missing Values', fontsize=12)\n",
        "plt.xticks(rotation=45)\n",
        "plt.grid(axis='y', linestyle='--', alpha=0.7)\n",
        "plt.show()"
      ],
      "metadata": {
        "id": "m_V2c8Rp6Tq2"
      },
      "execution_count": null,
      "outputs": []
    },
    {
      "cell_type": "code",
      "source": [
        "import matplotlib.pyplot as plt\n",
        "\n",
        "plt.boxplot(df['Environment_Score'].dropna())\n",
        "plt.title('Boxplot of Safety_Score')\n",
        "plt.show()\n"
      ],
      "metadata": {
        "id": "z67K_uPl6kR3"
      },
      "execution_count": null,
      "outputs": []
    },
    {
      "cell_type": "code",
      "source": [
        "df[df.columns[df.isnull().any()]].isnull().sum()\n"
      ],
      "metadata": {
        "id": "4jF-opsf7Jdv"
      },
      "execution_count": null,
      "outputs": []
    },
    {
      "cell_type": "code",
      "source": [
        "df[null_columns].dtypes\n"
      ],
      "metadata": {
        "id": "W6y1ybzS7pKn"
      },
      "execution_count": null,
      "outputs": []
    },
    {
      "cell_type": "code",
      "source": [
        "import matplotlib.pyplot as plt\n",
        "\n",
        "for col in null_columns:\n",
        "    if df[col].dtype in ['int64', 'float64']:\n",
        "        plt.figure(figsize=(6,3))\n",
        "        plt.boxplot(df[col].dropna())\n",
        "        plt.title(col)\n",
        "        plt.show()\n"
      ],
      "metadata": {
        "id": "02v_TsRV70FP"
      },
      "execution_count": null,
      "outputs": []
    },
    {
      "cell_type": "code",
      "source": [
        "for col in null_columns:\n",
        "    if df[col].dtype in ['int64', 'float64']:\n",
        "        plt.figure(figsize=(6,3))\n",
        "        df[col].hist()\n",
        "        plt.title(col)\n",
        "        plt.show()\n"
      ],
      "metadata": {
        "id": "TYqJ3utv8DAn"
      },
      "execution_count": null,
      "outputs": []
    },
    {
      "cell_type": "code",
      "source": [
        "import pandas as pd\n",
        "\n",
        "# الخطوة 1: تحديد الأعمدة اللي فيها قيم مفقودة\n",
        "null_columns = df.columns[df.isnull().any()]\n",
        "\n",
        "# الخطوة 2: تحليل كل عمود رقمي فيهم\n",
        "for col in null_columns:\n",
        "    if df[col].dtype in ['int64', 'float64']:  # الأعمدة الرقمية فقط\n",
        "        skewness = df[col].dropna().skew()  # نحسب الميل (Skewness)\n",
        "        print(f\"\\n📊 العمود: {col}\")\n",
        "        print(f\"🔹 الميل (Skewness): {skewness:.2f}\")\n",
        "\n",
        "        # تفسير النتيجة\n",
        "        if abs(skewness) < 0.5:\n",
        "            print(\"✅ التوزيع طبيعي → استخدم **Mean**\")\n",
        "        elif abs(skewness) < 1:\n",
        "            print(\"⚠️ ميل بسيط → ممكن Mean أو Median (يفضل Median لو فيه outliers)\")\n",
        "        else:\n",
        "            print(\"🚨 التوزيع مائل جدًا → استخدم **Median**\")\n",
        "    else:\n",
        "        print(f\"\\n📝 العمود: {col}\")\n",
        "        print(\"🔹 عمود نصي → استخدم **Mode**\")\n"
      ],
      "metadata": {
        "id": "4VGimy8U8XNP"
      },
      "execution_count": null,
      "outputs": []
    },
    {
      "cell_type": "code",
      "source": [
        "mean_value = df['SAFETY_SCORE'].mean()\n",
        "df['SAFETY_SCORE'].fillna(mean_value, inplace=True)\n"
      ],
      "metadata": {
        "id": "HUBBi1Fr8nVQ"
      },
      "execution_count": null,
      "outputs": []
    },
    {
      "cell_type": "code",
      "source": [
        "df[df.columns[df.isnull().any()]].isnull().sum()\n"
      ],
      "metadata": {
        "id": "OqK30pR19NvI"
      },
      "execution_count": null,
      "outputs": []
    },
    {
      "cell_type": "code",
      "source": [
        "import pandas as pd\n",
        "\n",
        "# الأعمدة اللي فيها قيم مفقودة\n",
        "null_columns = df.columns[df.isnull().any()]\n",
        "\n",
        "for col in null_columns:\n",
        "    if df[col].dtype in ['int64', 'float64']:  # الأعمدة الرقمية فقط\n",
        "        skewness = df[col].dropna().skew()\n",
        "\n",
        "        if abs(skewness) < 0.5:\n",
        "            fill_value = df[col].mean()\n",
        "            method = \"Mean\"\n",
        "        elif abs(skewness) < 1:\n",
        "            fill_value = df[col].median()  # خيار Median أفضل لو فيه outliers\n",
        "            method = \"Median\"\n",
        "        else:\n",
        "            fill_value = df[col].median()\n",
        "            method = \"Median\"\n",
        "\n",
        "        df[col].fillna(fill_value, inplace=True)\n",
        "        print(f\"✅ العمود '{col}' تم ملؤه باستخدام {method}\")\n",
        "\n",
        "    else:  # الأعمدة النصية\n",
        "        fill_value = df[col].mode()[0]\n",
        "        df[col].fillna(fill_value, inplace=True)\n",
        "        print(f\"✅ العمود '{col}' النصي تم ملؤه باستخدام Mode\")\n",
        "\n",
        "# التأكد إن مفيش قيم NULL بعد التعبئة\n",
        "print(\"\\n🎯 التأكد النهائي للقيم المفقودة:\")\n",
        "print(df.isnull().sum())\n"
      ],
      "metadata": {
        "id": "FEYgszcl9bzA"
      },
      "execution_count": null,
      "outputs": []
    },
    {
      "cell_type": "code",
      "source": [
        "df[df.columns[df.isnull().any()]].isnull().sum()\n"
      ],
      "metadata": {
        "id": "haDyoDoc9u8A"
      },
      "execution_count": null,
      "outputs": []
    },
    {
      "cell_type": "code",
      "source": [
        "import pandas as pd\n",
        "import matplotlib.pyplot as plt\n",
        "import seaborn as sns\n",
        "\n",
        "# ضبط شكل الرسومات\n",
        "sns.set(style=\"whitegrid\", palette=\"pastel\", color_codes=True)\n"
      ],
      "metadata": {
        "id": "U_4VfYpO-OzQ"
      },
      "execution_count": null,
      "outputs": []
    },
    {
      "cell_type": "code",
      "source": [
        "df.describe()\n"
      ],
      "metadata": {
        "id": "VRyeSBgT_CTI"
      },
      "execution_count": null,
      "outputs": []
    },
    {
      "cell_type": "code",
      "source": [
        "numeric_cols = df.select_dtypes(include=['int64', 'float64']).columns\n",
        "\n",
        "for col in numeric_cols:\n",
        "    plt.figure(figsize=(6,4))\n",
        "    sns.histplot(df[col], kde=True)\n",
        "    plt.title(f\"Distribution of {col}\")\n",
        "    plt.show()\n"
      ],
      "metadata": {
        "id": "MO_f3V4g_ICQ"
      },
      "execution_count": null,
      "outputs": []
    },
    {
      "cell_type": "code",
      "source": [
        "categorical_cols = df.select_dtypes(include=['object']).columns\n",
        "\n",
        "for col in categorical_cols:\n",
        "    plt.figure(figsize=(6,4))\n",
        "    sns.countplot(y=col, data=df, order=df[col].value_counts().index)\n",
        "    plt.title(f\"Count of each category in {col}\")\n",
        "    plt.show()\n"
      ],
      "metadata": {
        "id": "uyYpiH9M_cRw"
      },
      "execution_count": null,
      "outputs": []
    },
    {
      "cell_type": "code",
      "source": [
        "plt.figure(figsize=(6,4))\n",
        "sns.scatterplot(x='SAFETY_SCORE', y='Instruction_Score', data=df)\n",
        "plt.title(\"Instruction_Score vs SAFETY_SCORE\")\n",
        "plt.show()\n"
      ],
      "metadata": {
        "id": "IWvl3gUN_vUY"
      },
      "execution_count": null,
      "outputs": []
    },
    {
      "cell_type": "code",
      "source": [
        "plt.figure(figsize=(6,4))\n",
        "sns.boxplot(x='Instruction_Score', y='SAFETY_SCORE', data=df)\n",
        "plt.title(\"SAFETY_SCORE by Instruction_Score\")\n",
        "plt.show()\n"
      ],
      "metadata": {
        "id": "VvGIDt8YAHUp"
      },
      "execution_count": null,
      "outputs": []
    },
    {
      "cell_type": "code",
      "source": [
        "plt.figure(figsize=(10,8))\n",
        "corr = df[numeric_cols].corr()\n",
        "sns.heatmap(corr, annot=True, cmap='coolwarm', fmt=\".2f\")\n",
        "plt.title(\"Correlation Matrix\")\n",
        "plt.show()\n"
      ],
      "metadata": {
        "id": "7Sc2LEZTBcGh",
        "collapsed": true
      },
      "execution_count": null,
      "outputs": []
    },
    {
      "cell_type": "code",
      "source": [
        "# أعلى مدارس من حيث Safety Score\n",
        "df[['NAME_OF_SCHOOL','SAFETY_SCORE']].sort_values(by='SAFETY_SCORE', ascending=False).head(10)\n",
        "\n",
        "# أقل مدارس من حيث Safety Score\n",
        "df[['NAME_OF_SCHOOL','SAFETY_SCORE']].sort_values(by='SAFETY_SCORE', ascending=True).head(10)\n",
        "\n",
        "# متوسط Safety Score لكل نوع مدرسة\n",
        "df.groupby('Elementary, Middle, or High School')['SAFETY_SCORE'].mean().sort_values(ascending=False)\n"
      ],
      "metadata": {
        "id": "jLS3G6hiB5nR"
      },
      "execution_count": null,
      "outputs": []
    },
    {
      "cell_type": "code",
      "source": [
        "df[['NAME_OF_SCHOOL','SAFETY_SCORE']].sort_values(by='SAFETY_SCORE', ascending=True).head(10)\n"
      ],
      "metadata": {
        "id": "zPeU9rdTCYyN"
      },
      "execution_count": null,
      "outputs": []
    },
    {
      "cell_type": "code",
      "source": [
        "df[['NAME_OF_SCHOOL','SAFETY_SCORE']].sort_values(by='SAFETY_SCORE', ascending=False).head(10)\n"
      ],
      "metadata": {
        "id": "Bzi4O9QiC2Ik"
      },
      "execution_count": null,
      "outputs": []
    },
    {
      "cell_type": "code",
      "source": [
        "df['Elementary, Middle, or High School'].value_counts(normalize=True) * 100\n"
      ],
      "metadata": {
        "id": "up1RlnarC8Ws"
      },
      "execution_count": null,
      "outputs": []
    },
    {
      "cell_type": "code",
      "source": [
        "df.groupby('Elementary, Middle, or High School')['SAFETY_SCORE'].mean()\n"
      ],
      "metadata": {
        "id": "-EW0jwCNDVna"
      },
      "execution_count": null,
      "outputs": []
    },
    {
      "cell_type": "code",
      "source": [
        "df[['Environment_Score','SAFETY_SCORE']].corr()\n"
      ],
      "metadata": {
        "id": "j1qeaCn0E7bU"
      },
      "execution_count": null,
      "outputs": []
    },
    {
      "cell_type": "code",
      "source": [
        "# 1️⃣ استبدل كل قيم NDA بـ NaN حقيقية يفهمها الباندا\n",
        "import numpy as np\n",
        "df['Leaders_Score'] = df['Leaders_Score'].replace('NDA', np.nan)\n",
        "\n",
        "# 2️⃣ حوّل العمود إلى float\n",
        "df['Leaders_Score'] = df['Leaders_Score'].astype(float)\n"
      ],
      "metadata": {
        "id": "WEnpzVDQFQVd"
      },
      "execution_count": null,
      "outputs": []
    },
    {
      "cell_type": "code",
      "source": [
        "df['Leaders_Score'].isnull().sum()\n"
      ],
      "metadata": {
        "id": "7TSmeNrSG-LG"
      },
      "execution_count": null,
      "outputs": []
    },
    {
      "cell_type": "code",
      "source": [
        "import numpy as np\n",
        "import pandas as pd\n",
        "\n",
        "# استبدال القيم 'NDA' بقيمة NaN\n",
        "df['Leaders_Score'] = df['Leaders_Score'].replace('NDA', np.nan)\n",
        "\n",
        "# استخدام to_numeric لتحويل القيم إلى أرقام بأمان\n",
        "df['Leaders_Score'] = pd.to_numeric(df['Leaders_Score'], errors='coerce')\n"
      ],
      "metadata": {
        "id": "MXQ7bxzLHFPH"
      },
      "execution_count": null,
      "outputs": []
    },
    {
      "cell_type": "code",
      "source": [
        "df['Leaders_Score'].info()\n",
        "df['Leaders_Score'].isnull().sum()\n",
        "df['Leaders_Score'].head()\n"
      ],
      "metadata": {
        "id": "Rx7sDiFEHe8i"
      },
      "execution_count": null,
      "outputs": []
    },
    {
      "cell_type": "code",
      "source": [
        "import numpy as np\n",
        "import pandas as pd\n",
        "\n",
        "# 1️⃣ استبدل كل القيم \"NDA\" في الجدول بالكامل بـ NaN\n",
        "df = df.replace('NDA', np.nan)\n",
        "\n",
        "# 2️⃣ حوّل كل الأعمدة الرقمية اللي ممكن تتحول لأرقام\n",
        "for col in df.columns:\n",
        "    df[col] = pd.to_numeric(df[col], errors='ignore')\n"
      ],
      "metadata": {
        "id": "NO8G5Mw7HiRZ"
      },
      "execution_count": null,
      "outputs": []
    },
    {
      "cell_type": "code",
      "source": [
        "df.info()  # تشوف أنواع البيانات بعد التحويل\n",
        "df.isnull().sum()  # تعرف عدد القيم المفقودة في كل عمود\n"
      ],
      "metadata": {
        "collapsed": true,
        "id": "yJDw8WKEH-Ec"
      },
      "execution_count": null,
      "outputs": []
    },
    {
      "cell_type": "code",
      "source": [
        "import numpy as np\n",
        "import pandas as pd\n",
        "\n",
        "# 1️⃣ استبدال كل \"NDA\" في الجدول بـ NaN\n",
        "df = df.replace('NDA', np.nan)\n",
        "\n",
        "# 2️⃣ محاولة تحويل الأعمدة الرقمية فقط إلى float\n",
        "for col in df.columns:\n",
        "    try:\n",
        "        df[col] = pd.to_numeric(df[col])\n",
        "    except:\n",
        "        # لو العمود فيه نصوص أو قيم غير رقمية، سيبه زي ما هو\n",
        "        pass\n"
      ],
      "metadata": {
        "id": "G-8XfyhwIISU"
      },
      "execution_count": null,
      "outputs": []
    },
    {
      "cell_type": "code",
      "source": [
        "df.info()\n",
        "df.isnull().sum()\n"
      ],
      "metadata": {
        "id": "L-QoHYDEIXs-"
      },
      "execution_count": null,
      "outputs": []
    },
    {
      "cell_type": "code",
      "source": [
        "df.dtypes"
      ],
      "metadata": {
        "id": "jl17f4DhIZve"
      },
      "execution_count": null,
      "outputs": []
    },
    {
      "cell_type": "code",
      "source": [
        "\n",
        "\n",
        "# الاتصال بقاعدة البيانات\n",
        "conn = sqlite3.connect('FinalDB.db')\n",
        "\n",
        "# قراءة الجدول بالكامل\n",
        "df = pd.read_sql(\"SELECT * FROM CHICAGO_PUBLIC_SCHOOLS\", conn)\n",
        "conn.close()\n",
        "\n",
        "# قائمة الأعمدة المهمة للتحليل\n",
        "important_columns = [\n",
        "    'Elementary, Middle, or High School',\n",
        "    'Safety Score', 'Family Involvement Score', 'Environment Score',\n",
        "    'Instruction Score', 'Leaders Score ', 'Teachers Score',\n",
        "    'Parent Engagement Score', 'Parent Environment Score',\n",
        "    'Average Student Attendance', 'Rate of Misconducts (per 100 students) ',\n",
        "    'Average Teacher Attendance', 'Individualized Education Program Compliance Rate ',\n",
        "    'Pk-2 Literacy %', 'Pk-2 Math %', 'Gr3-5 Grade Level Math %',\n",
        "    'Gr3-5 Grade Level Read % ', 'Gr3-5 Keep Pace Read %', 'Gr3-5 Keep Pace Math %',\n",
        "    'Gr6-8 Grade Level Math %', 'Gr6-8 Grade Level Read %',\n",
        "    'Gr6-8 Keep Pace Math%', 'Gr6-8 Keep Pace Read %',\n",
        "    'Gr-8 Explore Math %', 'Gr-8 Explore Read %',\n",
        "    'ISAT Exceeding Math %', 'ISAT Exceeding Reading % ',\n",
        "    'ISAT Value Add Math', 'ISAT Value Add Read',\n",
        "    'Students Taking  Algebra %', 'Students Passing  Algebra %',\n",
        "    '11th Grade Average ACT (2011) ', 'College Eligibility %',\n",
        "    'Graduation Rate %', 'College Enrollment Rate %',\n",
        "    'College Enrollment (number of students) ', 'Freshman on Track Rate %'\n",
        "]\n",
        "\n",
        "# تصفية الأعمدة الموجودة فعلاً (تجنب الأخطاء لو بعضها ناقص)\n",
        "existing_columns = [col for col in important_columns if col in df.columns]\n",
        "df_filtered = df[existing_columns]\n",
        "\n",
        "# عرض النتيجة\n",
        "print(f\"✅ Filtered columns ({len(df_filtered.columns)} kept):\")\n",
        "print(df_filtered.columns.tolist())\n",
        "print(\"\\n📊 Data snapshot:\")\n",
        "print(df_filtered.head())\n"
      ],
      "metadata": {
        "id": "LE9XC2Kl5xMA"
      },
      "execution_count": null,
      "outputs": []
    },
    {
      "cell_type": "code",
      "source": [
        "# حفظ البيانات بعد التنظيف والتحليل لحد دلوقتي\n",
        "with pd.ExcelWriter('analysis_progress.xlsx') as writer:\n",
        "    df_filtered.to_excel(writer, sheet_name='Schools_Cleaned', index=False)\n"
      ],
      "metadata": {
        "id": "IS9XDL5B6QNR"
      },
      "execution_count": null,
      "outputs": []
    },
    {
      "cell_type": "code",
      "source": [
        "import os\n",
        "print(os.getcwd())\n"
      ],
      "metadata": {
        "id": "lP2nM-IH7TU7"
      },
      "execution_count": null,
      "outputs": []
    },
    {
      "cell_type": "code",
      "source": [
        "\n",
        "# الاتصال بقاعدة البيانات\n",
        "conn = sqlite3.connect('FinalDB.db')\n",
        "\n",
        "# قراءة جدول المدارس بعد التنظيف\n",
        "df_schools = pd.read_sql(\"SELECT * FROM CHICAGO_PUBLIC_SCHOOLS\", conn)\n",
        "\n",
        "important_columns_schools = [\n",
        "    'Elementary, Middle, or High School',\n",
        "    'Safety Score', 'Family Involvement Score', 'Environment Score',\n",
        "    'Instruction Score', 'Leaders Score ', 'Teachers Score',\n",
        "    'Parent Engagement Score', 'Parent Environment Score',\n",
        "    'Average Student Attendance', 'Rate of Misconducts (per 100 students) ',\n",
        "    'Average Teacher Attendance', 'Individualized Education Program Compliance Rate ',\n",
        "    'Pk-2 Literacy %', 'Pk-2 Math %', 'Gr3-5 Grade Level Math %',\n",
        "    'Gr3-5 Grade Level Read % ', 'Gr3-5 Keep Pace Read %', 'Gr3-5 Keep Pace Math %',\n",
        "    'Gr6-8 Grade Level Math %', 'Gr6-8 Grade Level Read %',\n",
        "    'Gr6-8 Keep Pace Math%', 'Gr6-8 Keep Pace Read %',\n",
        "    'Gr-8 Explore Math %', 'Gr-8 Explore Read %',\n",
        "    'ISAT Exceeding Math %', 'ISAT Exceeding Reading % ',\n",
        "    'ISAT Value Add Math', 'ISAT Value Add Read',\n",
        "    'Students Taking  Algebra %', 'Students Passing  Algebra %',\n",
        "    '11th Grade Average ACT (2011) ', 'College Eligibility %',\n",
        "    'Graduation Rate %', 'College Enrollment Rate %',\n",
        "    'College Enrollment (number of students) ', 'Freshman on Track Rate %'\n",
        "]\n",
        "\n",
        "existing_columns_schools = [col for col in important_columns_schools if col in df_schools.columns]\n",
        "df_schools_filtered = df_schools[existing_columns_schools]\n",
        "\n",
        "# قراءة جدول Census لو موجود\n",
        "tables_in_db = pd.read_sql(\"SELECT name FROM sqlite_master WHERE type='table';\", conn)['name'].tolist()\n",
        "if 'CENSUS_DATA' in tables_in_db:\n",
        "    df_census = pd.read_sql(\"SELECT * FROM CENSUS_DATA\", conn)\n",
        "else:\n",
        "    df_census = pd.DataFrame()  # فارغ لو مش موجود\n",
        "\n",
        "# قراءة جدول Crime لو موجود\n",
        "if 'CRIME_DATA' in tables_in_db:\n",
        "    df_crime = pd.read_sql(\"SELECT * FROM CRIME_DATA\", conn)\n",
        "else:\n",
        "    df_crime = pd.DataFrame()  # فارغ لو مش موجود\n",
        "\n",
        "conn.close()\n",
        "\n",
        "# حفظ كل الجداول في ملف Excel واحد\n",
        "with pd.ExcelWriter('analysis_progress.xlsx') as writer:\n",
        "    df_schools_filtered.to_excel(writer, sheet_name='Schools_Cleaned', index=False)\n",
        "    if not df_census.empty:\n",
        "        df_census.to_excel(writer, sheet_name='Census', index=False)\n",
        "    if not df_crime.empty:\n",
        "        df_crime.to_excel(writer, sheet_name='Crime', index=False)\n",
        "\n",
        "print(\"✅ All tables saved to 'analysis_progress.xlsx' in the current folder.\")\n"
      ],
      "metadata": {
        "id": "9iog02m07d-E"
      },
      "execution_count": null,
      "outputs": []
    },
    {
      "cell_type": "code",
      "source": [
        "import os\n",
        "print(os.getcwd())\n",
        "\n"
      ],
      "metadata": {
        "id": "sghGgbaM75E1"
      },
      "execution_count": null,
      "outputs": []
    },
    {
      "cell_type": "code",
      "source": [
        "from google.colab import files\n",
        "files.download('/content/analysis_progress.xlsx')\n"
      ],
      "metadata": {
        "id": "wKS9MgWQ8a_W"
      },
      "execution_count": null,
      "outputs": []
    },
    {
      "cell_type": "code",
      "source": [],
      "metadata": {
        "id": "qsOYYCQI8gw5"
      },
      "execution_count": null,
      "outputs": []
    }
  ]
}